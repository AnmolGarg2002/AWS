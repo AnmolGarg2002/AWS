{
 "cells": [
  {
   "cell_type": "code",
   "execution_count": 14,
   "metadata": {},
   "outputs": [],
   "source": [
    "import boto3\n",
    "import datetime\n",
    "import os\n",
    "import slack\n",
    "\n",
    "client = slack.WebClient('xxxxxxx')\n",
    "cw = boto3.client('cloudwatch')\n",
    "\n",
    "def ret_met(id1,metric):\n",
    "    response = cw.get_metric_statistics(\n",
    "            Period=300,\n",
    "            StartTime=datetime.datetime.utcnow() - datetime.timedelta(seconds=60000),\n",
    "            EndTime=datetime.datetime.utcnow(),\n",
    "            MetricName=metric,\n",
    "            Namespace='AWS/EC2',\n",
    "            Statistics=['Average'],\n",
    "            Dimensions=[{'Name':'InstanceId', 'Value':id1}]\n",
    "            )\n",
    "\n",
    "    data = response['Datapoints']\n",
    "    li=[]\n",
    "    for i in data:\n",
    "        li.append((i['Average'],i['Timestamp']))\n",
    "\n",
    "    li = sorted(li, key = lambda x: x[1])\n",
    "    return li\n",
    "    # print(li)\n",
    "    # for i in li:\n",
    "    # \tprint(i)"
   ]
  },
  {
   "cell_type": "code",
   "execution_count": 15,
   "metadata": {},
   "outputs": [],
   "source": [
    "import matplotlib.pyplot as plt\n",
    "\n",
    "def display(id,metric):\n",
    "    response = cw.list_metrics(Namespace='AWS/EC2', Dimensions=[{'Name':'InstanceId', 'Value':instance_id}])['Metrics']\n",
    "    metrics = [i['MetricName'] for i in response]\n",
    "    for i in metrics:\n",
    "        print(i)\n",
    "\n",
    "    li = ret_met(instance_id,metric)\n",
    "    fig=plt.figure(figsize=(15,5), dpi= 80, facecolor='w', edgecolor='k')\n",
    "    plt.plot([i[1] for i in li],[i[0] for i in li])\n",
    "    plt.ylabel(metric)\n",
    "    plt.show()\n",
    "\n",
    "def send_message(message):\n",
    "    response = client.chat_postMessage(\n",
    "        channel='USFJDCSJK',\n",
    "        text=message)\n",
    "    assert response[\"ok\"]\n",
    "    assert response[\"message\"][\"text\"] == message"
   ]
  },
  {
   "cell_type": "code",
   "execution_count": 16,
   "metadata": {},
   "outputs": [
    {
     "name": "stdout",
     "output_type": "stream",
     "text": [
      "NetworkPacketsIn\n",
      "NetworkPacketsOut\n",
      "CPUUtilization\n",
      "MetadataNoToken\n",
      "NetworkIn\n",
      "NetworkOut\n",
      "DiskReadBytes\n",
      "DiskWriteBytes\n",
      "DiskReadOps\n",
      "DiskWriteOps\n",
      "CPUCreditUsage\n",
      "CPUCreditBalance\n",
      "CPUSurplusCreditBalance\n",
      "CPUSurplusCreditsCharged\n",
      "StatusCheckFailed_System\n",
      "StatusCheckFailed_Instance\n",
      "StatusCheckFailed\n"
     ]
    },
    {
     "data": {
      "image/png": "[encoded data removed]",
      "text/plain": [
       "<Figure size 1200x400 with 1 Axes>"
      ]
     },
     "metadata": {},
     "output_type": "display_data"
    }
   ],
   "source": [
    "metric = 'CPUUtilization'\n",
    "instance_id = 'i-0d85b654fab3f772a'\n",
    "\n",
    "display(instance_id,metric)"
   ]
  },
  {
   "cell_type": "code",
   "execution_count": 36,
   "metadata": {},
   "outputs": [],
   "source": [
    "def create_ins():\n",
    "    ec2 = boto3.resource('ec2')\n",
    "    # create a new EC2 instance\n",
    "    instances = ec2.create_instances(\n",
    "         ImageId='ami-04b9e92b5572fa0d1',\n",
    "         MinCount=1,\n",
    "         MaxCount=1,\n",
    "         InstanceType='t2.micro',\n",
    "         KeyName='naman'\n",
    "     )"
   ]
  },
  {
   "cell_type": "code",
   "execution_count": 34,
   "metadata": {},
   "outputs": [],
   "source": [
    "li = ret_met(instance_id,metric)\n",
    "us = li[-1][0]\n",
    "try:\n",
    "    if(us>40):\n",
    "        send_message(\"emergency : \"+str(us))\n",
    "        create_ins()\n",
    "except:\n",
    "    pass"
   ]
  },
  {
   "cell_type": "code",
   "execution_count": 37,
   "metadata": {},
   "outputs": [],
   "source": []
  }
 ],
 "metadata": {
  "kernelspec": {
   "display_name": "Python 3",
   "language": "python",
   "name": "python3"
  },
  "language_info": {
   "codemirror_mode": {
    "name": "ipython",
    "version": 3
   },
   "file_extension": ".py",
   "mimetype": "text/x-python",
   "name": "python",
   "nbconvert_exporter": "python",
   "pygments_lexer": "ipython3",
   "version": "3.6.9"
  }
 },
 "nbformat": 4,
 "nbformat_minor": 4
}
